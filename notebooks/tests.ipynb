{
 "cells": [
  {
   "cell_type": "markdown",
   "metadata": {},
   "source": [
    "Testing Generator"
   ]
  },
  {
   "cell_type": "code",
   "execution_count": 13,
   "metadata": {},
   "outputs": [],
   "source": [
    "import anthropic\n",
    "import os \n",
    "from dotenv import load_dotenv, dotenv_values\n",
    "\n",
    "load_dotenv() \n",
    "api_key = os.getenv(\"ANTHROPIC_KEY\")\n",
    "\n",
    "client = anthropic.Anthropic(\n",
    "    api_key=api_key,\n",
    ")\n",
    "\n",
    "def question_generator(articles:dict,\n",
    "                       style: str,\n",
    "                       prompt: str = \"ministerial interview\"):\n",
    "        message = client.messages.create(\n",
    "        model=\"claude-3-opus-20240229\",\n",
    "        max_tokens=1000,\n",
    "        temperature=0,\n",
    "        system=\"\"\"\n",
    "        You are a journalist crafting a single challenging question for a press conference with a government minister.\n",
    "            \n",
    "            Your question should be direct, provocative, and concise. Only include the question and not context for the prompt.\n",
    "\n",
    "            \n",
    "            \"\"\",  # <-- system prompt\n",
    "        messages=[\n",
    "            {\n",
    "                \"role\": \"user\",\n",
    "                \n",
    "                \"content\": [\n",
    "                    {\n",
    "                        \"type\": \"text\",\n",
    "                        \"text\": f'Based on the articles provided: {articles}, craft a question in the style of a {style} journalist in the context of {prompt}.   DO NOT INCLUDE THE NAME OR TITLE OF THE PERSON YOU ARE INTERVIEWING. The questioner may not be the subject of the news story.'\n",
    "\n",
    "                    }\n",
    "                ]\n",
    "            }\n",
    "        ]\n",
    "    )\n",
    "        return message.content\n"
   ]
  },
  {
   "cell_type": "code",
   "execution_count": 16,
   "metadata": {},
   "outputs": [],
   "source": [
    "output = question_generator(\"testing\",\"happy\")"
   ]
  },
  {
   "cell_type": "code",
   "execution_count": 20,
   "metadata": {},
   "outputs": [
    {
     "data": {
      "text/plain": [
       "list"
      ]
     },
     "execution_count": 20,
     "metadata": {},
     "output_type": "execute_result"
    }
   ],
   "source": [
    "output[0].text"
   ]
  },
  {
   "cell_type": "markdown",
   "metadata": {},
   "source": [
    "News Catcher"
   ]
  },
  {
   "cell_type": "code",
   "execution_count": 153,
   "metadata": {},
   "outputs": [],
   "source": [
    "import anthropic\n",
    "import pandas as pd\n",
    "import os\n",
    "import re\n",
    "from pprint import pprint\n",
    "from newscatcherapi_client import Newscatcher, ApiException\n",
    "from langchain_anthropic import ChatAnthropic\n",
    "from langchain_core.prompts import ChatPromptTemplate\n",
    "import pandas as pd \n",
    "\n",
    "\n",
    "from dotenv import load_dotenv, dotenv_values\n",
    "\n",
    "\n",
    "load_dotenv() \n",
    "claude_api_key = os.getenv(\"ANTHROPIC_KEY\")\n",
    "news_catcher_api_key = os.getenv(\"NEWS_CATCHER_API\")\n",
    "\n",
    "\n",
    "newscatcher = Newscatcher(api_key = news_catcher_api_key)\n",
    "\n",
    "client = anthropic.Anthropic(api_key = claude_api_key)\n",
    "\n",
    "\n",
    "model = ChatAnthropic(model_name='claude-3-opus-20240229', temperature=0.6, api_key=claude_api_key)\n",
    "def generate_terms(topic = \"policing\"):\n",
    "    total_prompt = f\"\"\"Generate 5 diverse single word search terms for news articles based on this briefing {topic}\n",
    "    Consider the you will be taking this information to brief the priminister, so take the most important infromation.\n",
    "    Only return a python list of keywords.\n",
    "    \"\"\"\n",
    "    output = model.invoke(total_prompt)\n",
    "    terms = extract_bracket_contents(output.content)\n",
    "    return terms\n",
    "def extract_bracket_contents(text):\n",
    "    pattern = r'\\[(.*?)\\]'  # Pattern to find text inside brackets\n",
    "    list_of_terms  = re.findall(pattern, text)[0].split(\",\")\n",
    "    return [text.strip(\" '\") for text in list_of_terms]\n",
    "\n",
    "def create_newscatcher_query(terms):\n",
    "    query_result = \"(\"\n",
    "    for word in terms:\n",
    "        if word == terms[-1]:\n",
    "            query_result += \"(\" + word + \")) AND Britain\"\n",
    "        else:\n",
    "            query_result += \"(\" + word + \")\" + \" OR \"\n",
    "    return query_result\n",
    "\n",
    "def query_newscatcher(query=\"\"):\n",
    "    if not query :\n",
    "        return newscatcher.search.get(q=\"Britain\",\n",
    "                                      search_in=\"content\",\n",
    "                                      lang = \"en\",\n",
    "                                      theme = \"Politics\",\n",
    "                                      predefined_sources = \"top 30 GB\",\n",
    "                                      from_ = \"2 days ago\",\n",
    "                                      clustering_enabled = True,\n",
    "                                      page_size = 1000,\n",
    "                                      include_nlp_data = True)\n",
    "    else:\n",
    "        return newscatcher.search.get(q=query,\n",
    "                                      search_in=\"content\",\n",
    "                                      lang = \"en\",\n",
    "                                      predefined_sources = \"top 100 GB\",\n",
    "                                      from_ = \"7 days ago\",\n",
    "                                      clustering_enabled = True,\n",
    "                                      page_size = 1000,\n",
    "                                      include_nlp_data = True)\n",
    "\n",
    "\n",
    "def extract_summary_texts(newscatcher_output):\n",
    "    summary_list = []\n",
    "    cluster_list = [x[\"articles\"] for x in newscatcher_output.dict()[\"clusters\"]][:5]\n",
    "    for cluster in cluster_list:\n",
    "        summary_text=\"\"\n",
    "        for article in cluster:\n",
    "            summary_text += \" ``` \" + article[\"nlp\"][\"summary\"]\n",
    "        summary_list.append(summary_text)\n",
    "        \n",
    "    return summary_list   \n",
    "\n",
    "\n",
    "def generate_summary(summary_list):\n",
    "    succinct_summary = []\n",
    "    for summary in summary_list:\n",
    "        message = client.messages.create(\n",
    "            model=\"claude-3-opus-20240229\",\n",
    "            max_tokens=1000,\n",
    "            temperature=0.4,\n",
    "            messages=[\n",
    "                {\n",
    "                    \"role\": \"user\",\n",
    "                    \n",
    "                    \"content\": [\n",
    "                        {\n",
    "                            \"type\": \"text\",\n",
    "                            \"text\": f'Summarise the following content separated by ``` into one sentance: {summary}.'\n",
    "                            \n",
    "                        }\n",
    "                    ]\n",
    "                }\n",
    "            ]\n",
    "        )\n",
    "        succinct_summary.append(message.content)\n",
    "    return succinct_summary \n",
    "\n",
    "\n",
    "\n",
    "def newscatcher_main(query):\n",
    "    test_terms = generate_terms(query)\n",
    "    test_query = create_newscatcher_query(test_terms)\n",
    "    test_nc_output = query_newscatcher(test_query)\n",
    "    test_summary_text = extract_summary_texts(test_nc_output)\n",
    "    test_output = generate_summary(test_summary_text)\n",
    "    return test_output\n"
   ]
  },
  {
   "cell_type": "code",
   "execution_count": 154,
   "metadata": {},
   "outputs": [],
   "source": [
    "string = \"Prepare me for a briefing that will be given by the primeminister on speech on policing in the north east of england\""
   ]
  },
  {
   "cell_type": "code",
   "execution_count": 142,
   "metadata": {},
   "outputs": [],
   "source": [
    "test_terms = generate_terms(string)\n",
    "test_query = create_newscatcher_query(test_terms)"
   ]
  },
  {
   "cell_type": "code",
   "execution_count": 143,
   "metadata": {},
   "outputs": [
    {
     "data": {
      "text/plain": [
       "['crime', 'enforcement', 'community', 'budget', 'strategy']"
      ]
     },
     "execution_count": 143,
     "metadata": {},
     "output_type": "execute_result"
    }
   ],
   "source": [
    "test_terms"
   ]
  },
  {
   "cell_type": "code",
   "execution_count": 151,
   "metadata": {},
   "outputs": [],
   "source": [
    "test_nc_output = query_newscatcher(test_query)"
   ]
  },
  {
   "cell_type": "code",
   "execution_count": 155,
   "metadata": {},
   "outputs": [],
   "source": [
    "newcatcher_output = newscatcher_main(string)"
   ]
  },
  {
   "cell_type": "code",
   "execution_count": 157,
   "metadata": {},
   "outputs": [
    {
     "data": {
      "text/plain": [
       "[[TextBlock(text='Liz Truss, who served as Prime Minister for just 49 days, has been accused by Labour\\'s deputy leader Angela Rayner of staging a \"twisted victory lap\" while promoting her new book \"Ten Years To Save The West,\" despite mortgage repossession claims soaring following her disastrous mini-budget.', type='text')],\n",
       " [TextBlock(text=\"Katharine Birbalsingh, the headteacher of Michaela Community School in Brent, London, won a High Court case against a Muslim student who challenged the school's ban on prayer rituals, which was introduced due to death and bomb threats linked to religious observance on site.\", type='text')],\n",
       " [TextBlock(text='Sir Keir Starmer, the leader of the Labour Party, has committed to increasing the UK\\'s defence budget to 2.5% of GDP and implementing a \"triple lock\" on the country\\'s nuclear deterrent, which includes building four new Dreadnought submarines in Barrow-in-Furness, despite opposition from the SNP and anti-nuclear groups.', type='text')],\n",
       " [TextBlock(text='Here are the one-sentence summaries for each content block separated by ```:\\n\\n1. Jeremy Hunt will visit New York and Washington for the IMF spring meetings to promote Britain\\'s financial services and creative industries, and push for collaboration on AI, global economic security, and supply chain resilience with G7 and G20 partners.\\n\\n2. Ben Wallace warns that Iran is acting like a bully and must be \\'hit back twice as hard\\' as Israel prepares to retaliate after missile attacks from Tehran, while Rishi Sunak and the White House call for de-escalation.\\n\\n3. The Prime Minister is expected to speak to his Israeli counterpart on Tuesday, and the Foreign Secretary is also expected to visit Israel soon, as Israel considers its response to Saturday night\\'s attack by Iran, which launched around 350 drones and missiles.\\n\\n4. Britain joined the US and other allies in shooting down Iranian attack drones on Saturday night, and former defence secretary Ben Wallace wants the UK to use its defence of Israel as leverage to secure Israeli support for Ukraine.\\n\\n5. Some Conservative politicians and business and charity leaders are boycotting the Downing Street Eid reception due to their opposition to Israel\\'s offensive in Gaza, while Lord Cameron recently hosted an Eid celebration at the Foreign Office attended by ambassadors from every Arab and Israeli country.\\n\\n6. Benjamin Netanyahu is keeping Rishi Sunak waiting for talks despite British fighter jets helping Israel from Iran, with Downing Street denying that Mr Sunak was snubbed or that the UK was being \\'taken for granted\\', while Lord Cameron urged Tel Aviv to be \\'smart as well as tough\\' by not escalating the conflict with Iran.\\n\\n7. Rishi Sunak will talk to Benjamin Netanyahu on Tuesday about the thwarting of an Iranian attack on Israel over the weekend, and Foreign Secretary is also expected to visit Israel soon, while Ben Wallace wants the UK to use its defence of Israel as leverage to secure Israeli support for Ukraine.\\n\\n8. Fewer people attended Downing Street\\'s annual Eid reception on Monday, with Baroness Warsi, Britain\\'s first female Muslim cabinet minister, among those who stayed away, and Prime Minister Rishi Sunak unable to host the event as it clashed with his statement in the Commons on the situation in the Middle East.\\n\\n9. Rishi Sunak wants to ban Iran\\'s Islamic Revolutionary Guard Corps (IRGC) as a terrorist organisation, while Laura Farris suggests the Foreign Secretary wants to maintain the ability to speak directly to Iran, as the IRGC wields significant influence over Iran\\'s politics and has been blamed for destabilising the Middle East, with Britain joining the US and other allies in shooting down Iranian attack drones on Saturday night.\\n\\n10. Iran launched a mass drone and missile attack on Israeli territory overnight, which Israel repelled with the help of allies including the U.S., Britain, and Jordan, prompting Iran to warn of a \"much larger response\" if there is any retaliation, and leading to a U.N. Security Council meeting on Sunday to condemn Iran\\'s attack.\\n\\n11. Rishi Sunak is set to call Israeli PM Benjamin Netanyahu on Tuesday to discuss the Iranian attack on Israel over the weekend, while Laura Farris, the Foreign Secretary, is keen to preserve diplomatic ties with Tehran to minimise the risk of a miscalculation in the Middle East, as Israel\\'s military says it shot down 99% of the Iranian drones and missiles and is discussing follow-up options, with Hezbollah firing rockets at an Israeli base early on Sunday.', type='text')],\n",
       " [TextBlock(text='China is allegedly flooding Britain with millions of counterfeit Royal Mail stamps each week, which are being sold for as little as 4p each on Amazon, eBay, and fake websites, leaving thousands of victims paying £5 penalties to collect their post, prompting calls for investigations and preventative measures from Royal Mail, Border Force, and the UK government.', type='text')]]"
      ]
     },
     "execution_count": 157,
     "metadata": {},
     "output_type": "execute_result"
    }
   ],
   "source": [
    "newcatcher_output"
   ]
  },
  {
   "cell_type": "code",
   "execution_count": 98,
   "metadata": {},
   "outputs": [
    {
     "data": {
      "text/plain": [
       "newscatcherapi_client.pydantic.clustering_search_response.ClusteringSearchResponse"
      ]
     },
     "execution_count": 98,
     "metadata": {},
     "output_type": "execute_result"
    }
   ],
   "source": [
    "type(test_nc_output)"
   ]
  },
  {
   "cell_type": "code",
   "execution_count": 76,
   "metadata": {},
   "outputs": [
    {
     "data": {
      "text/plain": [
       "\"JK Rowling 'won't forgive' Daniel Radcliffe and Emma Watson\""
      ]
     },
     "execution_count": 76,
     "metadata": {},
     "output_type": "execute_result"
    }
   ],
   "source": [
    "test_nc_output.clusters[3].articles[1]['title']"
   ]
  },
  {
   "cell_type": "code",
   "execution_count": 159,
   "metadata": {},
   "outputs": [
    {
     "data": {
      "text/plain": [
       "['Liz Truss, who served as Prime Minister for just 49 days, has been accused by Labour\\'s deputy leader Angela Rayner of staging a \"twisted victory lap\" while promoting her new book \"Ten Years To Save The West,\" despite mortgage repossession claims soaring following her disastrous mini-budget.',\n",
       " \"Katharine Birbalsingh, the headteacher of Michaela Community School in Brent, London, won a High Court case against a Muslim student who challenged the school's ban on prayer rituals, which was introduced due to death and bomb threats linked to religious observance on site.\",\n",
       " 'Sir Keir Starmer, the leader of the Labour Party, has committed to increasing the UK\\'s defence budget to 2.5% of GDP and implementing a \"triple lock\" on the country\\'s nuclear deterrent, which includes building four new Dreadnought submarines in Barrow-in-Furness, despite opposition from the SNP and anti-nuclear groups.',\n",
       " 'Here are the one-sentence summaries for each content block separated by ```:\\n\\n1. Jeremy Hunt will visit New York and Washington for the IMF spring meetings to promote Britain\\'s financial services and creative industries, and push for collaboration on AI, global economic security, and supply chain resilience with G7 and G20 partners.\\n\\n2. Ben Wallace warns that Iran is acting like a bully and must be \\'hit back twice as hard\\' as Israel prepares to retaliate after missile attacks from Tehran, while Rishi Sunak and the White House call for de-escalation.\\n\\n3. The Prime Minister is expected to speak to his Israeli counterpart on Tuesday, and the Foreign Secretary is also expected to visit Israel soon, as Israel considers its response to Saturday night\\'s attack by Iran, which launched around 350 drones and missiles.\\n\\n4. Britain joined the US and other allies in shooting down Iranian attack drones on Saturday night, and former defence secretary Ben Wallace wants the UK to use its defence of Israel as leverage to secure Israeli support for Ukraine.\\n\\n5. Some Conservative politicians and business and charity leaders are boycotting the Downing Street Eid reception due to their opposition to Israel\\'s offensive in Gaza, while Lord Cameron recently hosted an Eid celebration at the Foreign Office attended by ambassadors from every Arab and Israeli country.\\n\\n6. Benjamin Netanyahu is keeping Rishi Sunak waiting for talks despite British fighter jets helping Israel from Iran, with Downing Street denying that Mr Sunak was snubbed or that the UK was being \\'taken for granted\\', while Lord Cameron urged Tel Aviv to be \\'smart as well as tough\\' by not escalating the conflict with Iran.\\n\\n7. Rishi Sunak will talk to Benjamin Netanyahu on Tuesday about the thwarting of an Iranian attack on Israel over the weekend, and Foreign Secretary is also expected to visit Israel soon, while Ben Wallace wants the UK to use its defence of Israel as leverage to secure Israeli support for Ukraine.\\n\\n8. Fewer people attended Downing Street\\'s annual Eid reception on Monday, with Baroness Warsi, Britain\\'s first female Muslim cabinet minister, among those who stayed away, and Prime Minister Rishi Sunak unable to host the event as it clashed with his statement in the Commons on the situation in the Middle East.\\n\\n9. Rishi Sunak wants to ban Iran\\'s Islamic Revolutionary Guard Corps (IRGC) as a terrorist organisation, while Laura Farris suggests the Foreign Secretary wants to maintain the ability to speak directly to Iran, as the IRGC wields significant influence over Iran\\'s politics and has been blamed for destabilising the Middle East, with Britain joining the US and other allies in shooting down Iranian attack drones on Saturday night.\\n\\n10. Iran launched a mass drone and missile attack on Israeli territory overnight, which Israel repelled with the help of allies including the U.S., Britain, and Jordan, prompting Iran to warn of a \"much larger response\" if there is any retaliation, and leading to a U.N. Security Council meeting on Sunday to condemn Iran\\'s attack.\\n\\n11. Rishi Sunak is set to call Israeli PM Benjamin Netanyahu on Tuesday to discuss the Iranian attack on Israel over the weekend, while Laura Farris, the Foreign Secretary, is keen to preserve diplomatic ties with Tehran to minimise the risk of a miscalculation in the Middle East, as Israel\\'s military says it shot down 99% of the Iranian drones and missiles and is discussing follow-up options, with Hezbollah firing rockets at an Israeli base early on Sunday.',\n",
       " 'China is allegedly flooding Britain with millions of counterfeit Royal Mail stamps each week, which are being sold for as little as 4p each on Amazon, eBay, and fake websites, leaving thousands of victims paying £5 penalties to collect their post, prompting calls for investigations and preventative measures from Royal Mail, Border Force, and the UK government.']"
      ]
     },
     "execution_count": 159,
     "metadata": {},
     "output_type": "execute_result"
    }
   ],
   "source": [
    "top_5_articles = [newcatcher_output[0][0].text,\n",
    "newcatcher_output[1][0].text,\n",
    "newcatcher_output[2][0].text,\n",
    "newcatcher_output[3][0].text,\n",
    "newcatcher_output[4][0].text]\n",
    "top_5_articles"
   ]
  },
  {
   "cell_type": "code",
   "execution_count": null,
   "metadata": {},
   "outputs": [],
   "source": [
    "newcatcher_output"
   ]
  },
  {
   "cell_type": "code",
   "execution_count": 100,
   "metadata": {},
   "outputs": [],
   "source": [
    "import anthropic\n",
    "import os \n",
    "from dotenv import load_dotenv, dotenv_values\n",
    "\n",
    "load_dotenv() \n",
    "api_key = os.getenv(\"ANTHROPIC_KEY\")\n",
    "\n",
    "client = anthropic.Anthropic(\n",
    "    api_key=api_key,\n",
    ")\n",
    "\n",
    "def get_sentiment(articles:dict):\n",
    "        message = client.messages.create(\n",
    "        model=\"claude-3-opus-20240229\",\n",
    "        max_tokens=1000,\n",
    "        temperature=0,\n",
    "        system=\"\"\"\n",
    "\n",
    "            \n",
    "            \"\"\",  # <-- system prompt\n",
    "        messages=[\n",
    "            {\n",
    "                \"role\": \"user\",\n",
    "                \n",
    "                \"content\": [\n",
    "                    {\n",
    "                        \"type\": \"text\",\n",
    "                        \"text\": f'Provide me the general sentiment on these articles here: {articles}, in less than 10 words'\n",
    "\n",
    "                    }\n",
    "                ]\n",
    "            }\n",
    "        ]\n",
    "    )\n",
    "        return message.content\n"
   ]
  },
  {
   "cell_type": "markdown",
   "metadata": {},
   "source": [
    "Test polling"
   ]
  },
  {
   "cell_type": "code",
   "execution_count": 167,
   "metadata": {},
   "outputs": [
    {
     "ename": "FileNotFoundError",
     "evalue": "[Errno 2] No such file or directory: 'polling/data/polling.csv'",
     "output_type": "error",
     "traceback": [
      "\u001b[0;31m---------------------------------------------------------------------------\u001b[0m",
      "\u001b[0;31mFileNotFoundError\u001b[0m                         Traceback (most recent call last)",
      "Cell \u001b[0;32mIn[167], line 4\u001b[0m\n\u001b[1;32m      1\u001b[0m \u001b[38;5;28;01mimport\u001b[39;00m \u001b[38;5;21;01msys\u001b[39;00m  \n\u001b[1;32m      2\u001b[0m sys\u001b[38;5;241m.\u001b[39mpath\u001b[38;5;241m.\u001b[39minsert(\u001b[38;5;241m1\u001b[39m,\u001b[38;5;124m'\u001b[39m\u001b[38;5;124m/Users/mawuliagamah/gitprojects/octelligence/polling\u001b[39m\u001b[38;5;124m'\u001b[39m)\n\u001b[0;32m----> 4\u001b[0m \u001b[38;5;28;01mfrom\u001b[39;00m \u001b[38;5;21;01minsights\u001b[39;00m \u001b[38;5;28;01mimport\u001b[39;00m get_insights\n\u001b[1;32m      5\u001b[0m \u001b[38;5;28;01mfrom\u001b[39;00m \u001b[38;5;21;01maudience_id\u001b[39;00m \u001b[38;5;28;01mimport\u001b[39;00m get_audiences\n",
      "File \u001b[0;32m~/gitprojects/octelligence/polling/insights.py:80\u001b[0m\n\u001b[1;32m     78\u001b[0m \u001b[38;5;66;03m# Example usage:\u001b[39;00m\n\u001b[1;32m     79\u001b[0m user_query \u001b[38;5;241m=\u001b[39m \u001b[38;5;124m\"\u001b[39m\u001b[38;5;124mI am giving a speech on policing in the North East.\u001b[39m\u001b[38;5;124m\"\u001b[39m\n\u001b[0;32m---> 80\u001b[0m result \u001b[38;5;241m=\u001b[39m \u001b[43mget_insights\u001b[49m\u001b[43m(\u001b[49m\u001b[43muser_query\u001b[49m\u001b[43m)\u001b[49m\n\u001b[1;32m     81\u001b[0m \u001b[38;5;28mprint\u001b[39m(result)\n",
      "File \u001b[0;32m~/gitprojects/octelligence/polling/insights.py:15\u001b[0m, in \u001b[0;36mget_insights\u001b[0;34m(user_query)\u001b[0m\n\u001b[1;32m     12\u001b[0m client \u001b[38;5;241m=\u001b[39m anthropic\u001b[38;5;241m.\u001b[39mAnthropic(api_key \u001b[38;5;241m=\u001b[39m os\u001b[38;5;241m.\u001b[39mgetenv(\u001b[38;5;124m\"\u001b[39m\u001b[38;5;124mANTHROPIC_KEY\u001b[39m\u001b[38;5;124m\"\u001b[39m))\n\u001b[1;32m     14\u001b[0m \u001b[38;5;66;03m# Load the CSV file into a DataFrame\u001b[39;00m\n\u001b[0;32m---> 15\u001b[0m df \u001b[38;5;241m=\u001b[39m \u001b[43mpd\u001b[49m\u001b[38;5;241;43m.\u001b[39;49m\u001b[43mread_csv\u001b[49m\u001b[43m(\u001b[49m\u001b[38;5;124;43m'\u001b[39;49m\u001b[38;5;124;43mpolling/data/polling.csv\u001b[39;49m\u001b[38;5;124;43m'\u001b[39;49m\u001b[43m)\u001b[49m\n\u001b[1;32m     17\u001b[0m \u001b[38;5;66;03m# Serialize the dictionary to a JSON string\u001b[39;00m\n\u001b[1;32m     18\u001b[0m polling_data_serialised \u001b[38;5;241m=\u001b[39m df\u001b[38;5;241m.\u001b[39mto_json(orient\u001b[38;5;241m=\u001b[39m\u001b[38;5;124m'\u001b[39m\u001b[38;5;124mrecords\u001b[39m\u001b[38;5;124m'\u001b[39m)\n",
      "File \u001b[0;32m~/anaconda3/envs/hackathon/lib/python3.12/site-packages/pandas/io/parsers/readers.py:1026\u001b[0m, in \u001b[0;36mread_csv\u001b[0;34m(filepath_or_buffer, sep, delimiter, header, names, index_col, usecols, dtype, engine, converters, true_values, false_values, skipinitialspace, skiprows, skipfooter, nrows, na_values, keep_default_na, na_filter, verbose, skip_blank_lines, parse_dates, infer_datetime_format, keep_date_col, date_parser, date_format, dayfirst, cache_dates, iterator, chunksize, compression, thousands, decimal, lineterminator, quotechar, quoting, doublequote, escapechar, comment, encoding, encoding_errors, dialect, on_bad_lines, delim_whitespace, low_memory, memory_map, float_precision, storage_options, dtype_backend)\u001b[0m\n\u001b[1;32m   1013\u001b[0m kwds_defaults \u001b[38;5;241m=\u001b[39m _refine_defaults_read(\n\u001b[1;32m   1014\u001b[0m     dialect,\n\u001b[1;32m   1015\u001b[0m     delimiter,\n\u001b[0;32m   (...)\u001b[0m\n\u001b[1;32m   1022\u001b[0m     dtype_backend\u001b[38;5;241m=\u001b[39mdtype_backend,\n\u001b[1;32m   1023\u001b[0m )\n\u001b[1;32m   1024\u001b[0m kwds\u001b[38;5;241m.\u001b[39mupdate(kwds_defaults)\n\u001b[0;32m-> 1026\u001b[0m \u001b[38;5;28;01mreturn\u001b[39;00m \u001b[43m_read\u001b[49m\u001b[43m(\u001b[49m\u001b[43mfilepath_or_buffer\u001b[49m\u001b[43m,\u001b[49m\u001b[43m \u001b[49m\u001b[43mkwds\u001b[49m\u001b[43m)\u001b[49m\n",
      "File \u001b[0;32m~/anaconda3/envs/hackathon/lib/python3.12/site-packages/pandas/io/parsers/readers.py:620\u001b[0m, in \u001b[0;36m_read\u001b[0;34m(filepath_or_buffer, kwds)\u001b[0m\n\u001b[1;32m    617\u001b[0m _validate_names(kwds\u001b[38;5;241m.\u001b[39mget(\u001b[38;5;124m\"\u001b[39m\u001b[38;5;124mnames\u001b[39m\u001b[38;5;124m\"\u001b[39m, \u001b[38;5;28;01mNone\u001b[39;00m))\n\u001b[1;32m    619\u001b[0m \u001b[38;5;66;03m# Create the parser.\u001b[39;00m\n\u001b[0;32m--> 620\u001b[0m parser \u001b[38;5;241m=\u001b[39m \u001b[43mTextFileReader\u001b[49m\u001b[43m(\u001b[49m\u001b[43mfilepath_or_buffer\u001b[49m\u001b[43m,\u001b[49m\u001b[43m \u001b[49m\u001b[38;5;241;43m*\u001b[39;49m\u001b[38;5;241;43m*\u001b[39;49m\u001b[43mkwds\u001b[49m\u001b[43m)\u001b[49m\n\u001b[1;32m    622\u001b[0m \u001b[38;5;28;01mif\u001b[39;00m chunksize \u001b[38;5;129;01mor\u001b[39;00m iterator:\n\u001b[1;32m    623\u001b[0m     \u001b[38;5;28;01mreturn\u001b[39;00m parser\n",
      "File \u001b[0;32m~/anaconda3/envs/hackathon/lib/python3.12/site-packages/pandas/io/parsers/readers.py:1620\u001b[0m, in \u001b[0;36mTextFileReader.__init__\u001b[0;34m(self, f, engine, **kwds)\u001b[0m\n\u001b[1;32m   1617\u001b[0m     \u001b[38;5;28mself\u001b[39m\u001b[38;5;241m.\u001b[39moptions[\u001b[38;5;124m\"\u001b[39m\u001b[38;5;124mhas_index_names\u001b[39m\u001b[38;5;124m\"\u001b[39m] \u001b[38;5;241m=\u001b[39m kwds[\u001b[38;5;124m\"\u001b[39m\u001b[38;5;124mhas_index_names\u001b[39m\u001b[38;5;124m\"\u001b[39m]\n\u001b[1;32m   1619\u001b[0m \u001b[38;5;28mself\u001b[39m\u001b[38;5;241m.\u001b[39mhandles: IOHandles \u001b[38;5;241m|\u001b[39m \u001b[38;5;28;01mNone\u001b[39;00m \u001b[38;5;241m=\u001b[39m \u001b[38;5;28;01mNone\u001b[39;00m\n\u001b[0;32m-> 1620\u001b[0m \u001b[38;5;28mself\u001b[39m\u001b[38;5;241m.\u001b[39m_engine \u001b[38;5;241m=\u001b[39m \u001b[38;5;28;43mself\u001b[39;49m\u001b[38;5;241;43m.\u001b[39;49m\u001b[43m_make_engine\u001b[49m\u001b[43m(\u001b[49m\u001b[43mf\u001b[49m\u001b[43m,\u001b[49m\u001b[43m \u001b[49m\u001b[38;5;28;43mself\u001b[39;49m\u001b[38;5;241;43m.\u001b[39;49m\u001b[43mengine\u001b[49m\u001b[43m)\u001b[49m\n",
      "File \u001b[0;32m~/anaconda3/envs/hackathon/lib/python3.12/site-packages/pandas/io/parsers/readers.py:1880\u001b[0m, in \u001b[0;36mTextFileReader._make_engine\u001b[0;34m(self, f, engine)\u001b[0m\n\u001b[1;32m   1878\u001b[0m     \u001b[38;5;28;01mif\u001b[39;00m \u001b[38;5;124m\"\u001b[39m\u001b[38;5;124mb\u001b[39m\u001b[38;5;124m\"\u001b[39m \u001b[38;5;129;01mnot\u001b[39;00m \u001b[38;5;129;01min\u001b[39;00m mode:\n\u001b[1;32m   1879\u001b[0m         mode \u001b[38;5;241m+\u001b[39m\u001b[38;5;241m=\u001b[39m \u001b[38;5;124m\"\u001b[39m\u001b[38;5;124mb\u001b[39m\u001b[38;5;124m\"\u001b[39m\n\u001b[0;32m-> 1880\u001b[0m \u001b[38;5;28mself\u001b[39m\u001b[38;5;241m.\u001b[39mhandles \u001b[38;5;241m=\u001b[39m \u001b[43mget_handle\u001b[49m\u001b[43m(\u001b[49m\n\u001b[1;32m   1881\u001b[0m \u001b[43m    \u001b[49m\u001b[43mf\u001b[49m\u001b[43m,\u001b[49m\n\u001b[1;32m   1882\u001b[0m \u001b[43m    \u001b[49m\u001b[43mmode\u001b[49m\u001b[43m,\u001b[49m\n\u001b[1;32m   1883\u001b[0m \u001b[43m    \u001b[49m\u001b[43mencoding\u001b[49m\u001b[38;5;241;43m=\u001b[39;49m\u001b[38;5;28;43mself\u001b[39;49m\u001b[38;5;241;43m.\u001b[39;49m\u001b[43moptions\u001b[49m\u001b[38;5;241;43m.\u001b[39;49m\u001b[43mget\u001b[49m\u001b[43m(\u001b[49m\u001b[38;5;124;43m\"\u001b[39;49m\u001b[38;5;124;43mencoding\u001b[39;49m\u001b[38;5;124;43m\"\u001b[39;49m\u001b[43m,\u001b[49m\u001b[43m \u001b[49m\u001b[38;5;28;43;01mNone\u001b[39;49;00m\u001b[43m)\u001b[49m\u001b[43m,\u001b[49m\n\u001b[1;32m   1884\u001b[0m \u001b[43m    \u001b[49m\u001b[43mcompression\u001b[49m\u001b[38;5;241;43m=\u001b[39;49m\u001b[38;5;28;43mself\u001b[39;49m\u001b[38;5;241;43m.\u001b[39;49m\u001b[43moptions\u001b[49m\u001b[38;5;241;43m.\u001b[39;49m\u001b[43mget\u001b[49m\u001b[43m(\u001b[49m\u001b[38;5;124;43m\"\u001b[39;49m\u001b[38;5;124;43mcompression\u001b[39;49m\u001b[38;5;124;43m\"\u001b[39;49m\u001b[43m,\u001b[49m\u001b[43m \u001b[49m\u001b[38;5;28;43;01mNone\u001b[39;49;00m\u001b[43m)\u001b[49m\u001b[43m,\u001b[49m\n\u001b[1;32m   1885\u001b[0m \u001b[43m    \u001b[49m\u001b[43mmemory_map\u001b[49m\u001b[38;5;241;43m=\u001b[39;49m\u001b[38;5;28;43mself\u001b[39;49m\u001b[38;5;241;43m.\u001b[39;49m\u001b[43moptions\u001b[49m\u001b[38;5;241;43m.\u001b[39;49m\u001b[43mget\u001b[49m\u001b[43m(\u001b[49m\u001b[38;5;124;43m\"\u001b[39;49m\u001b[38;5;124;43mmemory_map\u001b[39;49m\u001b[38;5;124;43m\"\u001b[39;49m\u001b[43m,\u001b[49m\u001b[43m \u001b[49m\u001b[38;5;28;43;01mFalse\u001b[39;49;00m\u001b[43m)\u001b[49m\u001b[43m,\u001b[49m\n\u001b[1;32m   1886\u001b[0m \u001b[43m    \u001b[49m\u001b[43mis_text\u001b[49m\u001b[38;5;241;43m=\u001b[39;49m\u001b[43mis_text\u001b[49m\u001b[43m,\u001b[49m\n\u001b[1;32m   1887\u001b[0m \u001b[43m    \u001b[49m\u001b[43merrors\u001b[49m\u001b[38;5;241;43m=\u001b[39;49m\u001b[38;5;28;43mself\u001b[39;49m\u001b[38;5;241;43m.\u001b[39;49m\u001b[43moptions\u001b[49m\u001b[38;5;241;43m.\u001b[39;49m\u001b[43mget\u001b[49m\u001b[43m(\u001b[49m\u001b[38;5;124;43m\"\u001b[39;49m\u001b[38;5;124;43mencoding_errors\u001b[39;49m\u001b[38;5;124;43m\"\u001b[39;49m\u001b[43m,\u001b[49m\u001b[43m \u001b[49m\u001b[38;5;124;43m\"\u001b[39;49m\u001b[38;5;124;43mstrict\u001b[39;49m\u001b[38;5;124;43m\"\u001b[39;49m\u001b[43m)\u001b[49m\u001b[43m,\u001b[49m\n\u001b[1;32m   1888\u001b[0m \u001b[43m    \u001b[49m\u001b[43mstorage_options\u001b[49m\u001b[38;5;241;43m=\u001b[39;49m\u001b[38;5;28;43mself\u001b[39;49m\u001b[38;5;241;43m.\u001b[39;49m\u001b[43moptions\u001b[49m\u001b[38;5;241;43m.\u001b[39;49m\u001b[43mget\u001b[49m\u001b[43m(\u001b[49m\u001b[38;5;124;43m\"\u001b[39;49m\u001b[38;5;124;43mstorage_options\u001b[39;49m\u001b[38;5;124;43m\"\u001b[39;49m\u001b[43m,\u001b[49m\u001b[43m \u001b[49m\u001b[38;5;28;43;01mNone\u001b[39;49;00m\u001b[43m)\u001b[49m\u001b[43m,\u001b[49m\n\u001b[1;32m   1889\u001b[0m \u001b[43m\u001b[49m\u001b[43m)\u001b[49m\n\u001b[1;32m   1890\u001b[0m \u001b[38;5;28;01massert\u001b[39;00m \u001b[38;5;28mself\u001b[39m\u001b[38;5;241m.\u001b[39mhandles \u001b[38;5;129;01mis\u001b[39;00m \u001b[38;5;129;01mnot\u001b[39;00m \u001b[38;5;28;01mNone\u001b[39;00m\n\u001b[1;32m   1891\u001b[0m f \u001b[38;5;241m=\u001b[39m \u001b[38;5;28mself\u001b[39m\u001b[38;5;241m.\u001b[39mhandles\u001b[38;5;241m.\u001b[39mhandle\n",
      "File \u001b[0;32m~/anaconda3/envs/hackathon/lib/python3.12/site-packages/pandas/io/common.py:873\u001b[0m, in \u001b[0;36mget_handle\u001b[0;34m(path_or_buf, mode, encoding, compression, memory_map, is_text, errors, storage_options)\u001b[0m\n\u001b[1;32m    868\u001b[0m \u001b[38;5;28;01melif\u001b[39;00m \u001b[38;5;28misinstance\u001b[39m(handle, \u001b[38;5;28mstr\u001b[39m):\n\u001b[1;32m    869\u001b[0m     \u001b[38;5;66;03m# Check whether the filename is to be opened in binary mode.\u001b[39;00m\n\u001b[1;32m    870\u001b[0m     \u001b[38;5;66;03m# Binary mode does not support 'encoding' and 'newline'.\u001b[39;00m\n\u001b[1;32m    871\u001b[0m     \u001b[38;5;28;01mif\u001b[39;00m ioargs\u001b[38;5;241m.\u001b[39mencoding \u001b[38;5;129;01mand\u001b[39;00m \u001b[38;5;124m\"\u001b[39m\u001b[38;5;124mb\u001b[39m\u001b[38;5;124m\"\u001b[39m \u001b[38;5;129;01mnot\u001b[39;00m \u001b[38;5;129;01min\u001b[39;00m ioargs\u001b[38;5;241m.\u001b[39mmode:\n\u001b[1;32m    872\u001b[0m         \u001b[38;5;66;03m# Encoding\u001b[39;00m\n\u001b[0;32m--> 873\u001b[0m         handle \u001b[38;5;241m=\u001b[39m \u001b[38;5;28;43mopen\u001b[39;49m\u001b[43m(\u001b[49m\n\u001b[1;32m    874\u001b[0m \u001b[43m            \u001b[49m\u001b[43mhandle\u001b[49m\u001b[43m,\u001b[49m\n\u001b[1;32m    875\u001b[0m \u001b[43m            \u001b[49m\u001b[43mioargs\u001b[49m\u001b[38;5;241;43m.\u001b[39;49m\u001b[43mmode\u001b[49m\u001b[43m,\u001b[49m\n\u001b[1;32m    876\u001b[0m \u001b[43m            \u001b[49m\u001b[43mencoding\u001b[49m\u001b[38;5;241;43m=\u001b[39;49m\u001b[43mioargs\u001b[49m\u001b[38;5;241;43m.\u001b[39;49m\u001b[43mencoding\u001b[49m\u001b[43m,\u001b[49m\n\u001b[1;32m    877\u001b[0m \u001b[43m            \u001b[49m\u001b[43merrors\u001b[49m\u001b[38;5;241;43m=\u001b[39;49m\u001b[43merrors\u001b[49m\u001b[43m,\u001b[49m\n\u001b[1;32m    878\u001b[0m \u001b[43m            \u001b[49m\u001b[43mnewline\u001b[49m\u001b[38;5;241;43m=\u001b[39;49m\u001b[38;5;124;43m\"\u001b[39;49m\u001b[38;5;124;43m\"\u001b[39;49m\u001b[43m,\u001b[49m\n\u001b[1;32m    879\u001b[0m \u001b[43m        \u001b[49m\u001b[43m)\u001b[49m\n\u001b[1;32m    880\u001b[0m     \u001b[38;5;28;01melse\u001b[39;00m:\n\u001b[1;32m    881\u001b[0m         \u001b[38;5;66;03m# Binary mode\u001b[39;00m\n\u001b[1;32m    882\u001b[0m         handle \u001b[38;5;241m=\u001b[39m \u001b[38;5;28mopen\u001b[39m(handle, ioargs\u001b[38;5;241m.\u001b[39mmode)\n",
      "\u001b[0;31mFileNotFoundError\u001b[0m: [Errno 2] No such file or directory: 'polling/data/polling.csv'"
     ]
    }
   ],
   "source": [
    "import sys  \n",
    "sys.path.insert(1,'/Users/mawuliagamah/gitprojects/octelligence/polling')\n",
    "\n",
    "from insights import get_insights\n",
    "from audience_id import get_audiences"
   ]
  },
  {
   "cell_type": "code",
   "execution_count": 164,
   "metadata": {},
   "outputs": [
    {
     "ename": "NameError",
     "evalue": "name 'get_audiences' is not defined",
     "output_type": "error",
     "traceback": [
      "\u001b[0;31m---------------------------------------------------------------------------\u001b[0m",
      "\u001b[0;31mNameError\u001b[0m                                 Traceback (most recent call last)",
      "Cell \u001b[0;32mIn[164], line 1\u001b[0m\n\u001b[0;32m----> 1\u001b[0m \u001b[43mget_audiences\u001b[49m()\n",
      "\u001b[0;31mNameError\u001b[0m: name 'get_audiences' is not defined"
     ]
    }
   ],
   "source": [
    "get_audiences()"
   ]
  },
  {
   "cell_type": "code",
   "execution_count": null,
   "metadata": {},
   "outputs": [],
   "source": []
  }
 ],
 "metadata": {
  "kernelspec": {
   "display_name": "hackathon",
   "language": "python",
   "name": "python3"
  },
  "language_info": {
   "codemirror_mode": {
    "name": "ipython",
    "version": 3
   },
   "file_extension": ".py",
   "mimetype": "text/x-python",
   "name": "python",
   "nbconvert_exporter": "python",
   "pygments_lexer": "ipython3",
   "version": "3.12.2"
  }
 },
 "nbformat": 4,
 "nbformat_minor": 2
}
